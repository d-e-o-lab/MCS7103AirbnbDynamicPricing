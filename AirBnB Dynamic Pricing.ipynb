{
 "cells": [
  {
   "cell_type": "markdown",
   "id": "466e2329",
   "metadata": {},
   "source": [
    "## IMPORT THE NECCESSARY LIBRARIES\n"
   ]
  },
  {
   "cell_type": "code",
   "execution_count": null,
   "id": "34fa5e62",
   "metadata": {},
   "outputs": [],
   "source": [
    "#Importing the neccessary libraries for the dataset\n",
    "#These include Pandas,numpy, seaborn,matplotlib,norm,stats etc"
   ]
  },
  {
   "cell_type": "code",
   "execution_count": null,
   "id": "8c28fd3b",
   "metadata": {},
   "outputs": [],
   "source": [
    "import pandas as pd\n",
    "import numpy as np\n",
    "import seaborn as sns\n",
    "import matplotlib.pyplot as plt\n",
    "import warnings\n",
    "import math\n",
    "\n",
    "from sklearn.preprocessing import LabelEncoder\n",
    "warnings.filterwarnings('ignore')\n",
    "\n",
    "from sklearn.model_selection import train_test_split\n",
    "\n",
    "from sklearn.metrics import mean_squared_error, r2_score, mean_absolute_error\n",
    "from sklearn.metrics import accuracy_score, confusion_matrix, classification_report\n",
    "\n",
    "from sklearn.linear_model import LinearRegression\n",
    "from sklearn.ensemble import RandomForestRegressor\n",
    "from sklearn.linear_model import LogisticRegression\n",
    "from sklearn.linear_model import Lasso\n",
    "from sklearn import svm\n",
    "from sklearn.impute import SimpleImputer\n",
    "from sklearn.preprocessing import StandardScaler\n",
    "from sklearn.preprocessing import OrdinalEncoder\n",
    "\n",
    "\n",
    "from sklearn.model_selection import GridSearchCV, RandomizedSearchCV\n",
    "from sklearn.ensemble import VotingClassifier\n",
    "\n"
   ]
  },
  {
   "cell_type": "markdown",
   "id": "e4e19220",
   "metadata": {},
   "source": [
    "## READ DATASET"
   ]
  },
  {
   "cell_type": "code",
   "execution_count": null,
   "id": "ae6d918b",
   "metadata": {},
   "outputs": [],
   "source": [
    "#Reading the data into the Data Frame."
   ]
  },
  {
   "cell_type": "code",
   "execution_count": null,
   "id": "f6c1c84b",
   "metadata": {},
   "outputs": [],
   "source": [
    "data_frame = pd.read_csv('C:/Users/HP/Desktop/AirBnBPricing/airbnb-price_predict-main/datasets/AB_NYC_2019.csv')"
   ]
  },
  {
   "cell_type": "markdown",
   "id": "4e932710",
   "metadata": {},
   "source": [
    "## 1.DATA DISCOVERY\n"
   ]
  },
  {
   "cell_type": "code",
   "execution_count": null,
   "id": "e884cba6",
   "metadata": {},
   "outputs": [],
   "source": [
    "# This refers to familiarising yourself with data such that you can conceptualise it"
   ]
  },
  {
   "cell_type": "code",
   "execution_count": null,
   "id": "c2c984a3",
   "metadata": {},
   "outputs": [],
   "source": [
    "# 1.1 Data Preparation"
   ]
  },
  {
   "cell_type": "code",
   "execution_count": null,
   "id": "a322fb2c",
   "metadata": {},
   "outputs": [],
   "source": [
    "\n",
    "#The data preparation phase rearranges the data so that the visualization and analysis portion of \n",
    "#data discovery can run more smoothly.\n"
   ]
  },
  {
   "cell_type": "code",
   "execution_count": null,
   "id": "e8d9d593",
   "metadata": {},
   "outputs": [],
   "source": [
    "#Checking to see how the dataset looks like\n",
    "#Display the first five rows of the dataset\n",
    "#This confirms the type of data frame in use"
   ]
  },
  {
   "cell_type": "code",
   "execution_count": null,
   "id": "f1630f12",
   "metadata": {},
   "outputs": [],
   "source": [
    "data_frame.head()"
   ]
  },
  {
   "cell_type": "code",
   "execution_count": null,
   "id": "8d9338b3",
   "metadata": {},
   "outputs": [],
   "source": [
    "#Display twenty rows of the dataset randomly"
   ]
  },
  {
   "cell_type": "code",
   "execution_count": null,
   "id": "31b9595b",
   "metadata": {},
   "outputs": [],
   "source": [
    "data_frame.sample(20)"
   ]
  },
  {
   "cell_type": "code",
   "execution_count": null,
   "id": "b02fafba",
   "metadata": {},
   "outputs": [],
   "source": [
    "#Display the last five rows of the dataset"
   ]
  },
  {
   "cell_type": "code",
   "execution_count": null,
   "id": "edc0b1cf",
   "metadata": {},
   "outputs": [],
   "source": [
    "data_frame.tail()"
   ]
  },
  {
   "cell_type": "code",
   "execution_count": null,
   "id": "d9781289",
   "metadata": {},
   "outputs": [],
   "source": [
    "# Checking for infor,atoin about the dataset"
   ]
  },
  {
   "cell_type": "code",
   "execution_count": null,
   "id": "f3b689a5",
   "metadata": {},
   "outputs": [],
   "source": [
    "data_frame.info()"
   ]
  },
  {
   "cell_type": "markdown",
   "id": "f1e3da1a",
   "metadata": {},
   "source": [
    "## 2. SANITY DATA CHECK"
   ]
  },
  {
   "cell_type": "code",
   "execution_count": null,
   "id": "03c3e7a9",
   "metadata": {},
   "outputs": [],
   "source": [
    "#Checking for number of missig or null values "
   ]
  },
  {
   "cell_type": "code",
   "execution_count": null,
   "id": "5c9143f5",
   "metadata": {},
   "outputs": [],
   "source": [
    "data_frame.isnull()"
   ]
  },
  {
   "cell_type": "raw",
   "id": "ad041b6d",
   "metadata": {},
   "source": [
    "-  Indicates that we have 48895 rows and 16 Columns"
   ]
  },
  {
   "cell_type": "code",
   "execution_count": null,
   "id": "4ee78ea5",
   "metadata": {},
   "outputs": [],
   "source": []
  },
  {
   "cell_type": "code",
   "execution_count": null,
   "id": "25d650b2",
   "metadata": {},
   "outputs": [],
   "source": [
    "data_frame.isnull().sum()/len(data_frame)*100"
   ]
  },
  {
   "cell_type": "code",
   "execution_count": null,
   "id": "7f40bf62",
   "metadata": {},
   "outputs": [],
   "source": [
    "print(\"There are {} missing Values in the Data\".format(data_frame.isnull().sum().sum()))"
   ]
  },
  {
   "cell_type": "code",
   "execution_count": null,
   "id": "9dd0de69",
   "metadata": {},
   "outputs": [],
   "source": [
    "# Dislpaying the columns in the dataframe"
   ]
  },
  {
   "cell_type": "code",
   "execution_count": null,
   "id": "5f98c1ab",
   "metadata": {},
   "outputs": [],
   "source": [
    "data_frame.columns"
   ]
  },
  {
   "cell_type": "code",
   "execution_count": null,
   "id": "26475c43",
   "metadata": {},
   "outputs": [],
   "source": [
    "# Describing the Dataframe"
   ]
  },
  {
   "cell_type": "code",
   "execution_count": null,
   "id": "9c5c1bbc",
   "metadata": {},
   "outputs": [],
   "source": [
    "data_frame.describe()"
   ]
  },
  {
   "cell_type": "code",
   "execution_count": null,
   "id": "45abcf89",
   "metadata": {},
   "outputs": [],
   "source": []
  },
  {
   "cell_type": "code",
   "execution_count": null,
   "id": "ae1558dd",
   "metadata": {},
   "outputs": [],
   "source": [
    "data_frame[['id', 'name', 'host_id', 'host_name', 'neighbourhood_group',\n",
    "       'neighbourhood', 'latitude', 'longitude', 'room_type', 'price',\n",
    "       'minimum_nights', 'number_of_reviews', 'last_review',\n",
    "       'reviews_per_month', 'calculated_host_listings_count',\n",
    "       'availability_365']]"
   ]
  },
  {
   "cell_type": "code",
   "execution_count": null,
   "id": "836caba7",
   "metadata": {},
   "outputs": [],
   "source": [
    "# Dropping the Unnecessary variables"
   ]
  },
  {
   "cell_type": "code",
   "execution_count": null,
   "id": "4031f1db",
   "metadata": {},
   "outputs": [],
   "source": [
    "df1 = data_frame[['id',\n",
    "    #'name', \n",
    "    'host_id', \n",
    "    #'host_name',\n",
    "    'neighbourhood_group',\n",
    "       'neighbourhood', \n",
    "        #'latitude', 'longitude', \n",
    "    'room_type', 'price',\n",
    "       'minimum_nights', 'number_of_reviews', 'last_review',\n",
    "       'reviews_per_month', \n",
    "                  'calculated_host_listings_count',\n",
    "       'availability_365']].copy()"
   ]
  },
  {
   "cell_type": "code",
   "execution_count": null,
   "id": "96d626b1",
   "metadata": {},
   "outputs": [],
   "source": [
    "df1.describe()"
   ]
  },
  {
   "cell_type": "code",
   "execution_count": null,
   "id": "53a4b004",
   "metadata": {},
   "outputs": [],
   "source": [
    "# Determining the shape of the dataset"
   ]
  },
  {
   "cell_type": "code",
   "execution_count": null,
   "id": "ebb6961a",
   "metadata": {},
   "outputs": [],
   "source": [
    "df1.shape"
   ]
  },
  {
   "cell_type": "code",
   "execution_count": null,
   "id": "6799ed46",
   "metadata": {
    "scrolled": true
   },
   "outputs": [],
   "source": [
    "df1.dtypes"
   ]
  },
  {
   "cell_type": "code",
   "execution_count": null,
   "id": "5c519a88",
   "metadata": {},
   "outputs": [],
   "source": [
    "df1.columns"
   ]
  },
  {
   "cell_type": "code",
   "execution_count": null,
   "id": "ee5f1486",
   "metadata": {},
   "outputs": [],
   "source": [
    "# Renaming the columns"
   ]
  },
  {
   "cell_type": "code",
   "execution_count": null,
   "id": "836cda97",
   "metadata": {},
   "outputs": [],
   "source": [
    "df1 = df1.rename(columns = {'id':'List_Id', 'host_id':'Host_Id', 'neighbourhood':'Neighbourhood', \n",
    "        'neighbourhood_group': 'Neighbourhood_Group',\n",
    "        'room_type':'Room_Type', 'price':'Price_Dollars',\n",
    "       'minimum_nights':'Minimum_Nights', 'number_of_reviews':'Number_Of_Reviews', 'last_review':'Last_Reviews',\n",
    "       'reviews_per_month':'Reviews_Per_Month', 'calculated_host_listings_count':'Number_Of_Host_Listings',\n",
    "       'availability_365':'Availability'})"
   ]
  },
  {
   "cell_type": "code",
   "execution_count": null,
   "id": "7dd1be35",
   "metadata": {},
   "outputs": [],
   "source": []
  },
  {
   "cell_type": "code",
   "execution_count": null,
   "id": "3941bdea",
   "metadata": {},
   "outputs": [],
   "source": [
    "df1.head()"
   ]
  },
  {
   "cell_type": "code",
   "execution_count": null,
   "id": "56e8c964",
   "metadata": {},
   "outputs": [],
   "source": []
  },
  {
   "cell_type": "code",
   "execution_count": null,
   "id": "bc465a91",
   "metadata": {},
   "outputs": [],
   "source": [
    "df1.sample(20)"
   ]
  },
  {
   "cell_type": "code",
   "execution_count": null,
   "id": "9659953c",
   "metadata": {},
   "outputs": [],
   "source": []
  },
  {
   "cell_type": "code",
   "execution_count": null,
   "id": "b1b1e019",
   "metadata": {},
   "outputs": [],
   "source": [
    "df1.tail()"
   ]
  },
  {
   "cell_type": "code",
   "execution_count": null,
   "id": "cf9fd828",
   "metadata": {},
   "outputs": [],
   "source": []
  },
  {
   "cell_type": "markdown",
   "id": "dc31edf7",
   "metadata": {},
   "source": [
    "## Filling the Null value"
   ]
  },
  {
   "cell_type": "code",
   "execution_count": null,
   "id": "a5e74e53",
   "metadata": {},
   "outputs": [],
   "source": [
    "#Checking for number of missig or null values "
   ]
  },
  {
   "cell_type": "code",
   "execution_count": null,
   "id": "71bcaa5a",
   "metadata": {},
   "outputs": [],
   "source": [
    "df1.isnull()"
   ]
  },
  {
   "cell_type": "code",
   "execution_count": null,
   "id": "53938b3e",
   "metadata": {},
   "outputs": [],
   "source": []
  },
  {
   "cell_type": "code",
   "execution_count": null,
   "id": "6cb55185",
   "metadata": {},
   "outputs": [],
   "source": [
    "df1.loc[df1.duplicated(subset = ['Neighbourhood'])]"
   ]
  },
  {
   "cell_type": "code",
   "execution_count": null,
   "id": "675bf631",
   "metadata": {},
   "outputs": [],
   "source": []
  },
  {
   "cell_type": "code",
   "execution_count": null,
   "id": "0d3ff944",
   "metadata": {},
   "outputs": [],
   "source": [
    "df1.isnull().sum()/len(df1)*100"
   ]
  },
  {
   "cell_type": "code",
   "execution_count": null,
   "id": "ad490be9",
   "metadata": {},
   "outputs": [],
   "source": [
    "print(\"There are {} missing Values in the Data\".format(data_frame.isnull().sum().sum()))"
   ]
  },
  {
   "cell_type": "code",
   "execution_count": null,
   "id": "4d70068f",
   "metadata": {},
   "outputs": [],
   "source": [
    "\n",
    "# Fill missing values or drop columns with too many missing values\n",
    "\n"
   ]
  },
  {
   "cell_type": "code",
   "execution_count": null,
   "id": "f8100b3b",
   "metadata": {},
   "outputs": [],
   "source": [
    "df1['Reviews_Per_Month'].fillna(0, inplace=True)\n",
    "df1.drop(['Last_Reviews'], axis=1, inplace=True)\n",
    "\n"
   ]
  },
  {
   "cell_type": "code",
   "execution_count": null,
   "id": "d5ce71b7",
   "metadata": {},
   "outputs": [],
   "source": [
    "# Check for missing values"
   ]
  },
  {
   "cell_type": "code",
   "execution_count": null,
   "id": "badb47f5",
   "metadata": {},
   "outputs": [],
   "source": [
    "df1.isnull().sum()"
   ]
  },
  {
   "cell_type": "code",
   "execution_count": null,
   "id": "85e6e0af",
   "metadata": {},
   "outputs": [],
   "source": [
    "print(\"There are {} missing Values in the Data\".format(df1.isnull().sum().sum()))"
   ]
  },
  {
   "cell_type": "code",
   "execution_count": null,
   "id": "c8aa5db8",
   "metadata": {},
   "outputs": [],
   "source": [
    "# Checking for duplicate values"
   ]
  },
  {
   "cell_type": "code",
   "execution_count": null,
   "id": "0abc99e1",
   "metadata": {},
   "outputs": [],
   "source": [
    "df1.loc[df1.duplicated()]"
   ]
  },
  {
   "cell_type": "markdown",
   "id": "19e7a35e",
   "metadata": {},
   "source": []
  },
  {
   "cell_type": "code",
   "execution_count": null,
   "id": "ae1aca54",
   "metadata": {},
   "outputs": [],
   "source": []
  },
  {
   "cell_type": "code",
   "execution_count": null,
   "id": "f4b3b399",
   "metadata": {},
   "outputs": [],
   "source": [
    "df1.duplicated(subset = ['Neighbourhood'])"
   ]
  },
  {
   "cell_type": "code",
   "execution_count": null,
   "id": "3507df37",
   "metadata": {},
   "outputs": [],
   "source": []
  },
  {
   "cell_type": "code",
   "execution_count": null,
   "id": "a7c7ee82",
   "metadata": {},
   "outputs": [],
   "source": [
    "df1.query('Neighbourhood ==\"East Harlem\"')"
   ]
  },
  {
   "cell_type": "code",
   "execution_count": null,
   "id": "11e4e9fc",
   "metadata": {},
   "outputs": [],
   "source": [
    "df1.dtypes"
   ]
  },
  {
   "cell_type": "code",
   "execution_count": null,
   "id": "49d9b115",
   "metadata": {},
   "outputs": [],
   "source": [
    "\n"
   ]
  },
  {
   "cell_type": "code",
   "execution_count": null,
   "id": "0536ae1e",
   "metadata": {},
   "outputs": [],
   "source": [
    "df1 = df1.loc[~df1.duplicated(subset = ['Neighbourhood','Room_Type','Minimum_Nights','Number_Of_Reviews'])]\\\n",
    ".reset_index(drop=True).copy()\n"
   ]
  },
  {
   "cell_type": "code",
   "execution_count": null,
   "id": "68fb12b7",
   "metadata": {},
   "outputs": [],
   "source": [
    "# Checking for garbage"
   ]
  },
  {
   "cell_type": "code",
   "execution_count": null,
   "id": "e52105b0",
   "metadata": {},
   "outputs": [],
   "source": [
    "for i in df1.select_dtypes(include = \"object\").columns:\n",
    "    print(df1[i].value_counts())\n",
    "    print('***'*10)"
   ]
  },
  {
   "cell_type": "code",
   "execution_count": null,
   "id": "864b26e4",
   "metadata": {},
   "outputs": [],
   "source": [
    "#Checking for unique values"
   ]
  },
  {
   "cell_type": "code",
   "execution_count": null,
   "id": "3892b2ac",
   "metadata": {},
   "outputs": [],
   "source": [
    "df1.nunique()"
   ]
  },
  {
   "cell_type": "code",
   "execution_count": null,
   "id": "7caab64d",
   "metadata": {},
   "outputs": [],
   "source": [
    "df1.shape"
   ]
  },
  {
   "cell_type": "code",
   "execution_count": null,
   "id": "0690909e",
   "metadata": {},
   "outputs": [],
   "source": [
    "# Describing the dataset"
   ]
  },
  {
   "cell_type": "code",
   "execution_count": null,
   "id": "914110a9",
   "metadata": {},
   "outputs": [],
   "source": [
    "df1.describe()"
   ]
  },
  {
   "cell_type": "code",
   "execution_count": null,
   "id": "d95af337",
   "metadata": {},
   "outputs": [],
   "source": []
  },
  {
   "cell_type": "code",
   "execution_count": null,
   "id": "957abafa",
   "metadata": {},
   "outputs": [],
   "source": [
    "# Histogram to understand the distribution"
   ]
  },
  {
   "cell_type": "code",
   "execution_count": null,
   "id": "a610310f",
   "metadata": {},
   "outputs": [],
   "source": [
    "for i in df1.select_dtypes(include=\"number\").columns:\n",
    "     sns.histplot(data=df1,x=i)\n",
    "     plt.show()"
   ]
  },
  {
   "cell_type": "code",
   "execution_count": null,
   "id": "669e3ab8",
   "metadata": {},
   "outputs": [],
   "source": [
    "# BoxPlot to identify outliers"
   ]
  },
  {
   "cell_type": "code",
   "execution_count": null,
   "id": "d4d9fce9",
   "metadata": {},
   "outputs": [],
   "source": [
    "plt.figure(figsize=(8,6))\n",
    "plt.subplot(1,5,1)\n",
    "sns.boxplot(data=df1,x='Price_Dollars')\n",
    "plt.title('Price_Dollars')\n",
    "plt.tight_layout()\n",
    "\n",
    "plt.figure(figsize=(8,6))\n",
    "plt.subplot(1,5,1)\n",
    "sns.boxplot(data=df1,x='Minimum_Nights')\n",
    "plt.title('Minimum_Nights')\n",
    "plt.tight_layout()\n",
    "\n",
    "\n",
    "plt.subplot(1,5,2)\n",
    "sns.boxplot(data=df1,x='Number_Of_Reviews')\n",
    "plt.title('Number_Of_Reviews')\n",
    "plt.tight_layout()\n",
    "\n",
    "\n",
    "plt.subplot(1,5,3)\n",
    "sns.boxplot(data=df1,x='Reviews_Per_Month')\n",
    "plt.title('Reviews_Per_Month')\n",
    "plt.tight_layout()\n",
    "\n",
    "\n",
    "plt.subplot(1,5,4)\n",
    "sns.boxplot(data=df1,x='Number_Of_Host_Listings')\n",
    "plt.title('Number_Of_Host_Listings')\n",
    "plt.tight_layout()\n",
    "\n",
    "\n",
    "plt.subplot(1,5,5)\n",
    "sns.boxplot(data=df1,x='Availability')\n",
    "plt.title('Availability')\n",
    "plt.tight_layout()\n"
   ]
  },
  {
   "cell_type": "code",
   "execution_count": null,
   "id": "8dd3ac6e",
   "metadata": {},
   "outputs": [],
   "source": [
    "# Outlier treatment"
   ]
  },
  {
   "cell_type": "code",
   "execution_count": null,
   "id": "04771c76",
   "metadata": {},
   "outputs": [],
   "source": [
    "#Detection and removal of outliers using percentile"
   ]
  },
  {
   "cell_type": "code",
   "execution_count": null,
   "id": "e17bc6cf",
   "metadata": {},
   "outputs": [],
   "source": [
    "# Calculating the lower and upper percentile threshold for Price_Dollars\n",
    "\n",
    "min_threshold,max_threshold=df1.Price_Dollars.quantile([0.001,0.999])\n",
    "min_threshold,max_threshold\n",
    "print(\"Entries with Prices below\", min_threshold, \"or above\" ,max_threshold, \"are removed\")\n",
    "\n",
    "min_threshold,max_threshold=df1.Minimum_Nights.quantile([0.010,0.999])\n",
    "min_threshold,max_threshold\n",
    "print(\"Entries with Nights below\", min_threshold, \"or above\" ,max_threshold, \"are removed\")\n",
    "\n",
    "min_threshold,max_threshold=df1.Number_Of_Reviews.quantile([0.001,0.999])\n",
    "min_threshold,max_threshold\n",
    "print(\"Entries with Number of reviews below\", min_threshold, \"or above\" ,max_threshold, \"are removed\")\n",
    "\n",
    "min_threshold,max_threshold=df1.Reviews_Per_Month.quantile([0.001,0.999])\n",
    "min_threshold,max_threshold\n",
    "print(\"Entries with Monthly reviews below\", min_threshold, \"or above\" ,max_threshold, \"are removed\")\n",
    "\n",
    "min_threshold,max_threshold=df1.Number_Of_Host_Listings.quantile([0.010,0.999])\n",
    "min_threshold,max_threshold\n",
    "print(\"Entries with Listings below\", min_threshold, \"or above\" ,max_threshold, \"are removed\")"
   ]
  },
  {
   "cell_type": "code",
   "execution_count": null,
   "id": "e4b90d57",
   "metadata": {},
   "outputs": [],
   "source": [
    "# Determining the rows where Price_Dollars is below the lower threshold\n",
    "df1[df1.Price_Dollars<min_threshold]\n",
    "df1[df1.Minimum_Nights<min_threshold]\n",
    "df1[df1.Number_Of_Reviews<min_threshold]\n",
    "df1[df1.Reviews_Per_Month<min_threshold]\n",
    "df1[df1.Number_Of_Host_Listings<min_threshold]    \n"
   ]
  },
  {
   "cell_type": "code",
   "execution_count": null,
   "id": "1460fd46",
   "metadata": {},
   "outputs": [],
   "source": []
  },
  {
   "cell_type": "code",
   "execution_count": null,
   "id": "71a4978b",
   "metadata": {},
   "outputs": [],
   "source": [
    "#Determining the rows where Price_Dollars is above the upper threshold\n",
    "\n",
    "df1[df1.Price_Dollars>max_threshold]\n",
    "df1[df1.Minimum_Nights>max_threshold]\n",
    "df1[df1.Number_Of_Reviews>max_threshold]\n",
    "df1[df1.Reviews_Per_Month>max_threshold]\n",
    "df1[df1.Number_Of_Host_Listings>max_threshold]\n"
   ]
  },
  {
   "cell_type": "code",
   "execution_count": null,
   "id": "03494428",
   "metadata": {},
   "outputs": [],
   "source": []
  },
  {
   "cell_type": "code",
   "execution_count": null,
   "id": "71eb43c2",
   "metadata": {},
   "outputs": [],
   "source": [
    "# Filtering the dataset to remove outliers\n",
    "df1= df1[(df1.Price_Dollars<max_threshold) & (df1.Price_Dollars>min_threshold)]\n",
    "df1= df1[(df1.Minimum_Nights<max_threshold) & (df1.Minimum_Nights>min_threshold)]\n",
    "df1= df1[(df1.Number_Of_Reviews<max_threshold) & (df1.Number_Of_Reviews>min_threshold)]\n",
    "df1= df1[(df1.Reviews_Per_Month<max_threshold) & (df1.Reviews_Per_Month>min_threshold)]\n",
    "df1= df1[(df1.Number_Of_Host_Listings<max_threshold) & (df1.Number_Of_Host_Listings>min_threshold)]\n",
    "df1.shape"
   ]
  },
  {
   "cell_type": "code",
   "execution_count": null,
   "id": "421de621",
   "metadata": {},
   "outputs": [],
   "source": [
    "df1.sample(20)"
   ]
  },
  {
   "cell_type": "code",
   "execution_count": null,
   "id": "5131dd60",
   "metadata": {},
   "outputs": [],
   "source": []
  },
  {
   "cell_type": "code",
   "execution_count": null,
   "id": "1a6c3ddc",
   "metadata": {},
   "outputs": [],
   "source": [
    "print(df1.shape)"
   ]
  },
  {
   "cell_type": "code",
   "execution_count": null,
   "id": "ddd8e62c",
   "metadata": {},
   "outputs": [],
   "source": []
  },
  {
   "cell_type": "code",
   "execution_count": null,
   "id": "05ded1dc",
   "metadata": {},
   "outputs": [],
   "source": [
    "\n",
    "\n",
    "\n",
    "plt.figure(figsize=(14,6))\n",
    "plt.subplot(1,5,1)\n",
    "sns.boxplot(data=df1,x='Price_Dollars')\n",
    "plt.title('Price_Dollars')\n",
    "plt.tight_layout()\n",
    "\n",
    "plt.figure(figsize=(14,6))\n",
    "plt.subplot(1,5,1)\n",
    "sns.boxplot(data=df1,x='Minimum_Nights')\n",
    "plt.title('Minimum_Nights')\n",
    "plt.tight_layout()\n",
    "\n",
    "\n",
    "plt.subplot(1,5,2)\n",
    "sns.boxplot(data=df1,x='Number_Of_Reviews')\n",
    "plt.title('Number_Of_Reviews')\n",
    "plt.tight_layout()\n",
    "\n",
    "\n",
    "plt.subplot(1,5,3)\n",
    "sns.boxplot(data=df1,x='Reviews_Per_Month')\n",
    "plt.title('Reviews_Per_Month')\n",
    "plt.tight_layout()\n",
    "\n",
    "\n",
    "plt.subplot(1,5,4)\n",
    "sns.boxplot(data=df1,x='Number_Of_Host_Listings')\n",
    "plt.title('Number_Of_Host_Listings')\n",
    "plt.tight_layout()\n",
    "\n",
    "\n",
    "plt.subplot(1,5,5)\n",
    "sns.boxplot(data=df1,x='Availability')\n",
    "plt.title('Availability')\n",
    "plt.tight_layout()\n"
   ]
  },
  {
   "cell_type": "code",
   "execution_count": null,
   "id": "ff4388e5",
   "metadata": {},
   "outputs": [],
   "source": [
    "for i in df1.select_dtypes(include=\"number\").columns:\n",
    "     sns.histplot(data=df1,x=i)\n",
    "     plt.show()"
   ]
  },
  {
   "cell_type": "code",
   "execution_count": null,
   "id": "7af12f6e",
   "metadata": {},
   "outputs": [],
   "source": [
    "# Defining the columns of the dataframe"
   ]
  },
  {
   "cell_type": "code",
   "execution_count": null,
   "id": "9c44e632",
   "metadata": {},
   "outputs": [],
   "source": [
    "df1.columns\n"
   ]
  },
  {
   "cell_type": "code",
   "execution_count": null,
   "id": "516ce0c0",
   "metadata": {},
   "outputs": [],
   "source": [
    "for i in ['List_Id', 'Host_Id','Neighbourhood_Group', 'Neighbourhood', 'Room_Type', \n",
    "       'Minimum_Nights', 'Number_Of_Reviews', 'Reviews_Per_Month',\n",
    "       'Number_Of_Host_Listings', 'Availability']:\n",
    "     sns.scatterplot(data=df1,x=i,y='Price_Dollars')\n",
    "     plt.show()"
   ]
  },
  {
   "cell_type": "code",
   "execution_count": null,
   "id": "d6f5f2ea",
   "metadata": {},
   "outputs": [],
   "source": []
  },
  {
   "cell_type": "code",
   "execution_count": null,
   "id": "4e59adf9",
   "metadata": {},
   "outputs": [],
   "source": [
    "# Pie Chart showing room type distribution percentage"
   ]
  },
  {
   "cell_type": "code",
   "execution_count": null,
   "id": "88298f7b",
   "metadata": {},
   "outputs": [],
   "source": [
    "fig = plt.figure(figsize=(8,8), dpi=80)\n",
    "df1['Room_Type'].value_counts().plot(kind='pie',  autopct='%4.0f%%', startangle=360, fontsize=16)\n",
    "plt.title('Percentage Distribution of Room Type')\n",
    "plt.show()"
   ]
  },
  {
   "cell_type": "code",
   "execution_count": null,
   "id": "90f6c703",
   "metadata": {},
   "outputs": [],
   "source": [
    "# Pie chart showing the percentage distribution of Neighbourhood_Group"
   ]
  },
  {
   "cell_type": "code",
   "execution_count": null,
   "id": "ea74c95a",
   "metadata": {},
   "outputs": [],
   "source": [
    "fig = plt.figure(figsize=(8,8), dpi=80)\n",
    "df1['Neighbourhood_Group'].value_counts().plot(kind='pie',  autopct='%4.0f%%', startangle=360, fontsize=16)\n",
    "plt.title('Percentage Distribution of Neighbourhood_Group')\n",
    "plt.show()"
   ]
  },
  {
   "cell_type": "code",
   "execution_count": null,
   "id": "8def1bbd",
   "metadata": {},
   "outputs": [],
   "source": []
  },
  {
   "cell_type": "code",
   "execution_count": null,
   "id": "f8b4e082",
   "metadata": {},
   "outputs": [],
   "source": [
    "plt.figure(figsize=(14, 6))\n",
    "sns.barplot(df1.Neighbourhood_Group, df1.Price_Dollars, hue=df1.Room_Type, ci=None)"
   ]
  },
  {
   "cell_type": "code",
   "execution_count": null,
   "id": "b17c2c6c",
   "metadata": {},
   "outputs": [],
   "source": []
  },
  {
   "cell_type": "code",
   "execution_count": null,
   "id": "ec5b072b",
   "metadata": {},
   "outputs": [],
   "source": [
    "# Histogram to understand the distribution of prices"
   ]
  },
  {
   "cell_type": "code",
   "execution_count": null,
   "id": "f4afe99c",
   "metadata": {},
   "outputs": [],
   "source": [
    "\n",
    "# Distribution of prices\n",
    "plt.figure(figsize=(10, 6))\n",
    "sns.histplot(df1['Price_Dollars'], bins=10, kde=True)\n",
    "plt.title('Distribution of Prices')\n",
    "plt.xlabel('Price_Dollars')\n",
    "plt.ylabel('Frequency')\n",
    "plt.show()\n"
   ]
  },
  {
   "cell_type": "code",
   "execution_count": null,
   "id": "1f98cd60",
   "metadata": {},
   "outputs": [],
   "source": [
    "print(f\"Average of price per night : ${df1.Price_Dollars.mean():.2f}\")\n",
    "print(f\"Maximum price per night : ${df1.Price_Dollars.max()}\")\n",
    "print(f\"Minimum price per night : ${df1.Price_Dollars.min()}\")"
   ]
  },
  {
   "cell_type": "code",
   "execution_count": null,
   "id": "eeaf197c",
   "metadata": {},
   "outputs": [],
   "source": [
    "sns.jointplot(x ='Room_Type', y = 'Price_Dollars',data=df1,alpha=0.5)"
   ]
  },
  {
   "cell_type": "code",
   "execution_count": null,
   "id": "b8ff7414",
   "metadata": {},
   "outputs": [],
   "source": [
    "sns.jointplot(x ='Minimum_Nights', y = 'Price_Dollars',data=df1,alpha=0.5)\n"
   ]
  },
  {
   "cell_type": "code",
   "execution_count": null,
   "id": "81256796",
   "metadata": {},
   "outputs": [],
   "source": []
  },
  {
   "cell_type": "code",
   "execution_count": null,
   "id": "6622ab12",
   "metadata": {},
   "outputs": [],
   "source": [
    "sns.jointplot(x ='Neighbourhood_Group', y = 'Price_Dollars',data=df1,alpha=0.5)"
   ]
  },
  {
   "cell_type": "code",
   "execution_count": null,
   "id": "ce1dcc49",
   "metadata": {},
   "outputs": [],
   "source": [
    "# Ploting a correlation matrix to interpret the relation and multicolinearity"
   ]
  },
  {
   "cell_type": "code",
   "execution_count": null,
   "id": "02f5debd",
   "metadata": {},
   "outputs": [],
   "source": [
    "correlation_matrix = df1.corr()\n",
    "plt.figure(figsize=(18, 14))\n",
    "sns.heatmap(correlation_matrix, annot=True, fmt='.2f', linewidths=0.5, cmap='coolwarm',annot_kws={'fontsize':18, 'fontweight':'bold'})\n",
    "sns.set(font_scale=1.5)\n",
    "plt.title('Correlation Matrix')\n",
    "plt.show()\n"
   ]
  },
  {
   "cell_type": "code",
   "execution_count": null,
   "id": "680dbd83",
   "metadata": {},
   "outputs": [],
   "source": []
  },
  {
   "cell_type": "code",
   "execution_count": null,
   "id": "70f59d9d",
   "metadata": {},
   "outputs": [],
   "source": [
    "df1.select_dtypes(include=\"number\").corr()"
   ]
  },
  {
   "cell_type": "code",
   "execution_count": null,
   "id": "450e7a57",
   "metadata": {},
   "outputs": [],
   "source": [
    "# Assigning integers to Neighbourhood_Group and Room_Type"
   ]
  },
  {
   "cell_type": "code",
   "execution_count": null,
   "id": "106312d1",
   "metadata": {},
   "outputs": [],
   "source": [
    "oe = OrdinalEncoder()\n",
    "df1['Neighbourhood_Group'] = oe.fit_transform(df1[['Neighbourhood_Group']])\n",
    "df1['Room_Type'] = oe.fit_transform(df1[['Room_Type']])"
   ]
  },
  {
   "cell_type": "code",
   "execution_count": null,
   "id": "2d6b946c",
   "metadata": {},
   "outputs": [],
   "source": [
    "print(df1)"
   ]
  },
  {
   "cell_type": "code",
   "execution_count": null,
   "id": "25e195a1",
   "metadata": {},
   "outputs": [],
   "source": [
    "df1.sample(20)"
   ]
  },
  {
   "cell_type": "markdown",
   "id": "0c81b448",
   "metadata": {},
   "source": [
    "## FEATURE ENGINEERING"
   ]
  },
  {
   "cell_type": "code",
   "execution_count": null,
   "id": "88fb963b",
   "metadata": {},
   "outputs": [],
   "source": [
    "# Select Relevant features that will help with model development"
   ]
  },
  {
   "cell_type": "code",
   "execution_count": null,
   "id": "2a2ae4d5",
   "metadata": {},
   "outputs": [],
   "source": [
    "features = ['Minimum_Nights', 'Neighbourhood_Group','Room_Type','Number_Of_Host_Listings', 'Availability']\n",
    "target = 'Price_Dollars'\n",
    "\n",
    "df1 = df1.dropna(subset=features + [target])"
   ]
  },
  {
   "cell_type": "code",
   "execution_count": null,
   "id": "a4815d1f",
   "metadata": {},
   "outputs": [],
   "source": []
  },
  {
   "cell_type": "markdown",
   "id": "aaa7e521",
   "metadata": {},
   "source": [
    "# LINEAR REGRESSION MODEL"
   ]
  },
  {
   "cell_type": "code",
   "execution_count": null,
   "id": "08e455e5",
   "metadata": {},
   "outputs": [],
   "source": []
  },
  {
   "cell_type": "code",
   "execution_count": null,
   "id": "d01e00de",
   "metadata": {},
   "outputs": [],
   "source": [
    "# SPLITTING INTO TRAIN AND TEST"
   ]
  },
  {
   "cell_type": "code",
   "execution_count": null,
   "id": "bc4283cd",
   "metadata": {},
   "outputs": [],
   "source": [
    "X = df1[features]\n",
    "y= df1[target]"
   ]
  },
  {
   "cell_type": "code",
   "execution_count": null,
   "id": "28fecf8e",
   "metadata": {},
   "outputs": [],
   "source": []
  },
  {
   "cell_type": "code",
   "execution_count": null,
   "id": "51dcf0c5",
   "metadata": {},
   "outputs": [],
   "source": [
    "X_train, X_test, y_train, y_test = train_test_split(X, y, test_size=0.2, random_state=42)\n"
   ]
  },
  {
   "cell_type": "code",
   "execution_count": null,
   "id": "e85181d9",
   "metadata": {},
   "outputs": [],
   "source": []
  },
  {
   "cell_type": "code",
   "execution_count": null,
   "id": "cbc01a78",
   "metadata": {},
   "outputs": [],
   "source": [
    "# Normalising the dataset"
   ]
  },
  {
   "cell_type": "code",
   "execution_count": null,
   "id": "0e2b611c",
   "metadata": {},
   "outputs": [],
   "source": [
    "scaler = StandardScaler()\n",
    "X_train = scaler.fit_transform(X_train)\n",
    "X_test = scaler.fit_transform(X_test)"
   ]
  },
  {
   "cell_type": "code",
   "execution_count": null,
   "id": "3f3400bc",
   "metadata": {},
   "outputs": [],
   "source": []
  },
  {
   "cell_type": "code",
   "execution_count": null,
   "id": "c2666ae1",
   "metadata": {},
   "outputs": [],
   "source": [
    "# MODEL TRAINING"
   ]
  },
  {
   "cell_type": "code",
   "execution_count": null,
   "id": "24460389",
   "metadata": {},
   "outputs": [],
   "source": [
    "lr = LinearRegression()\n",
    "lr.fit(X_train, y_train)"
   ]
  },
  {
   "cell_type": "code",
   "execution_count": null,
   "id": "1b725eac",
   "metadata": {},
   "outputs": [],
   "source": [
    "# MODEL EVALUATION"
   ]
  },
  {
   "cell_type": "code",
   "execution_count": null,
   "id": "c67aac42",
   "metadata": {},
   "outputs": [],
   "source": [
    "y_pred = lr.predict(X_test)\n",
    "mse = mean_squared_error(y_test, y_pred)\n",
    "rmse = math.sqrt(mse)\n",
    "mae = mean_absolute_error(y_test, y_pred)\n",
    "r2 = r2_score(y_test, y_pred)\n",
    "\n",
    "print(f'Mean Squared Error: {mse}')\n",
    "print(f'Root Mean Squared Error: {rmse}')\n",
    "print(f'Mean absolute Error: {mae}')\n",
    "print(f'R-squared: {r2}')"
   ]
  },
  {
   "cell_type": "code",
   "execution_count": null,
   "id": "c4ef51ba",
   "metadata": {},
   "outputs": [],
   "source": []
  },
  {
   "cell_type": "code",
   "execution_count": null,
   "id": "f5cd57ba",
   "metadata": {},
   "outputs": [],
   "source": [
    "X_test"
   ]
  },
  {
   "cell_type": "code",
   "execution_count": null,
   "id": "115e4f2c",
   "metadata": {},
   "outputs": [],
   "source": [
    "y_test"
   ]
  },
  {
   "cell_type": "code",
   "execution_count": null,
   "id": "c2f0d726",
   "metadata": {},
   "outputs": [],
   "source": [
    "X_train"
   ]
  },
  {
   "cell_type": "code",
   "execution_count": null,
   "id": "ed0207c2",
   "metadata": {},
   "outputs": [],
   "source": [
    "y_train"
   ]
  },
  {
   "cell_type": "code",
   "execution_count": null,
   "id": "27ea30a8",
   "metadata": {},
   "outputs": [],
   "source": [
    "# Implement Dynamic Pricing"
   ]
  },
  {
   "cell_type": "code",
   "execution_count": null,
   "id": "d197a4eb",
   "metadata": {},
   "outputs": [],
   "source": [
    "df1['Predicted_Price']= lr.predict(df1[features])\n",
    "df1['Adjusted_Price']=df1['Predicted_Price']*1.1\n",
    "print(\"PREDICTED PRICE\\n\")\n",
    "print(df1['Predicted_Price'])\n",
    "print(\"\\n\")\n",
    "print(\"ADJUSTED PRICE\")\n",
    "print(df1['Adjusted_Price'])"
   ]
  },
  {
   "cell_type": "code",
   "execution_count": null,
   "id": "f25b01aa",
   "metadata": {},
   "outputs": [],
   "source": [
    "df2 = pd.df1({'Predicted_Price': np.array(y_test).flatten(), 'Adjusted_Price': y_pred.flatten()})\n",
    "print(df2.head(5))\n",
    "\n",
    "#Visualize the error\n",
    "df1 = df2.head(25)\n",
    "df1.plot(kind='bar',figsize=(10,7))\n",
    "plt.grid(which='major', linestyle='-', linewidth='0.5', color='green')\n",
    "plt.grid(which='minor', linestyle=':', linewidth='0.5', color='black')\n",
    "plt.show()"
   ]
  },
  {
   "cell_type": "code",
   "execution_count": null,
   "id": "37ad1772",
   "metadata": {},
   "outputs": [],
   "source": [
    "# MONITOR AND UPDATING THE MODEL"
   ]
  },
  {
   "cell_type": "code",
   "execution_count": null,
   "id": "e4441600",
   "metadata": {},
   "outputs": [],
   "source": [
    "import time\n",
    "\n",
    "def monitor_and_update_model(df1, lr, features, target, threshold=0.5, interval=86400):\n",
    "    while True:\n",
    "        # Predict prices\n",
    "        df1['Predicted_Price'] = lr.predict(df1[features])\n",
    "        df1['Adjusted_Price'] = df1['Predicted_Price'] * 1.1\n",
    "# Calculate performance metrics\n",
    "mse = mean_squared_error(df1['Adjusted_Price'], df1['Predicted_Price'])\n",
    "rmse = mse ** 0.5\n",
    "mae = mean_absolute_error(df1['Adjusted_Price'], df1['Predicted_Price'])\n",
    "r2 = r2_score(df1['Adjusted_Price'], df1['Predicted_Price'])\n",
    "\n",
    "print(f\"Mean Squared Error: {mse}\")\n",
    "print(f\"Root Mean Squared Error: {rmse}\")\n",
    "print(f\"Mean Absolute Error: {mae}\")\n",
    "print(f\"R-squared: {r2}\")\n",
    "\n",
    "time.sleep(3600)\n"
   ]
  },
  {
   "cell_type": "code",
   "execution_count": null,
   "id": "6fa0a36d",
   "metadata": {},
   "outputs": [],
   "source": []
  },
  {
   "cell_type": "markdown",
   "id": "cbd77803",
   "metadata": {},
   "source": [
    "##  LOGISTIC REGRESSION"
   ]
  },
  {
   "cell_type": "code",
   "execution_count": null,
   "id": "7300ede8",
   "metadata": {},
   "outputs": [],
   "source": [
    "# Convert the problem into a classification Problem."
   ]
  },
  {
   "cell_type": "code",
   "execution_count": null,
   "id": "8ac11e1e",
   "metadata": {},
   "outputs": [],
   "source": [
    "# Data preparation"
   ]
  },
  {
   "cell_type": "code",
   "execution_count": null,
   "id": "de61d7e3",
   "metadata": {},
   "outputs": [],
   "source": [
    "# Create a binary target variable\n",
    "median_price = df1['Price_Dollars'].median()\n",
    "df1['Price_category'] = (df1['Price_Dollars'] > median_price).astype(int)\n",
    "\n",
    "# Update features and target\n",
    "y = df1['Price_category']\n"
   ]
  },
  {
   "cell_type": "code",
   "execution_count": null,
   "id": "b3ad3aad",
   "metadata": {},
   "outputs": [],
   "source": [
    "# MODEL TRAINING"
   ]
  },
  {
   "cell_type": "code",
   "execution_count": null,
   "id": "d78ac7c5",
   "metadata": {},
   "outputs": [],
   "source": [
    "\n",
    "log_mod = LogisticRegression()\n",
    "log_mod.fit(X_train, y_train)\n"
   ]
  },
  {
   "cell_type": "code",
   "execution_count": null,
   "id": "33241037",
   "metadata": {},
   "outputs": [],
   "source": [
    "# MODEL EVALUATION"
   ]
  },
  {
   "cell_type": "code",
   "execution_count": null,
   "id": "63c6a796",
   "metadata": {},
   "outputs": [],
   "source": [
    "\n",
    "y_pred_log = log_mod.predict(X_test)\n",
    "accuracy = accuracy_score(y_test, y_pred_log)\n",
    "conf_matrix = confusion_matrix(y_test, y_pred_log)\n",
    "class_report = classification_report(y_test, y_pred_log)\n",
    "\n",
    "print(f'Accuracy: {accuracy}')\n",
    "print(f'Confusion Matrix:\\n{conf_matrix}')\n",
    "print(f'Classification Report:\\n{class_report}')\n"
   ]
  },
  {
   "cell_type": "code",
   "execution_count": null,
   "id": "b56abc52",
   "metadata": {},
   "outputs": [],
   "source": []
  },
  {
   "cell_type": "markdown",
   "id": "b374d896",
   "metadata": {},
   "source": [
    "## LASSO REGRESSION MODEL"
   ]
  },
  {
   "cell_type": "code",
   "execution_count": null,
   "id": "99fd2c24",
   "metadata": {},
   "outputs": [],
   "source": [
    "# MODEL TRAINING"
   ]
  },
  {
   "cell_type": "code",
   "execution_count": null,
   "id": "0aad1afc",
   "metadata": {},
   "outputs": [],
   "source": [
    "lasso_mod = Lasso(alpha=0.1)\n",
    "lasso_mod.fit(X_train, y_train)\n"
   ]
  },
  {
   "cell_type": "code",
   "execution_count": null,
   "id": "d7806096",
   "metadata": {},
   "outputs": [],
   "source": [
    "# MODEL EVALUATION"
   ]
  },
  {
   "cell_type": "code",
   "execution_count": null,
   "id": "bec02fb7",
   "metadata": {
    "scrolled": true
   },
   "outputs": [],
   "source": [
    "y_pred_lasso = lasso_mod.predict(X_test)\n",
    "mse_lasso = mean_squared_error(y_test, y_pred_lasso)\n",
    "rmse_lasso = math.sqrt(mse_lasso)\n",
    "mae_lasso = mean_absolute_error(y_test, y_pred_lasso)\n",
    "r2_lasso = r2_score(y_test, y_pred_lasso)\n",
    "\n",
    "print(f'Mean Squared Error (Lasso): {mse_lasso}')\n",
    "print(f'Root Means Squared Error (Lasso): {rmse_lasso}')\n",
    "print(f'Mean Absolute Error (Lasso): {mae_lasso}')\n",
    "print(f'R-squared (Lasso): {r2_lasso}')\n"
   ]
  },
  {
   "cell_type": "code",
   "execution_count": null,
   "id": "361272fc",
   "metadata": {},
   "outputs": [],
   "source": []
  },
  {
   "cell_type": "code",
   "execution_count": null,
   "id": "d075e0ae",
   "metadata": {},
   "outputs": [],
   "source": []
  },
  {
   "cell_type": "markdown",
   "id": "65b52e16",
   "metadata": {},
   "source": [
    "## RANDOM FOREST"
   ]
  },
  {
   "cell_type": "code",
   "execution_count": null,
   "id": "529ce8d8",
   "metadata": {},
   "outputs": [],
   "source": [
    "# MODEL TRAINING"
   ]
  },
  {
   "cell_type": "code",
   "execution_count": null,
   "id": "a1f36c1d",
   "metadata": {},
   "outputs": [],
   "source": [
    "rf_mod = RandomForestRegressor(n_estimators=100,random_state=20)\n",
    "rf_mod.fit(X_train, y_train)\n"
   ]
  },
  {
   "cell_type": "code",
   "execution_count": null,
   "id": "2285f0fb",
   "metadata": {},
   "outputs": [],
   "source": [
    "# MODEL EVALUATION"
   ]
  },
  {
   "cell_type": "code",
   "execution_count": null,
   "id": "49d69cdd",
   "metadata": {},
   "outputs": [],
   "source": [
    "y_pred_rf = rf_mod.predict(X_test)\n",
    "mse_rf = mean_squared_error(y_test, y_pred_rf)\n",
    "rmse_rf= math.sqrt(mse_rf)\n",
    "mae_rf = mean_absolute_error(y_test, y_pred_lasso)\n",
    "r2_rf = r2_score(y_test, y_pred_rf)\n",
    "\n",
    "print(f'Random Forest MSE: {mse_rf}')\n",
    "print(f'Random Forest RMSE: {rmse_rf}')\n",
    "print(f'Random Forest MAE: {mae_rf}')\n",
    "print(f'Random Forest R-Squared: {r2_rf}')\n",
    "\n"
   ]
  },
  {
   "cell_type": "code",
   "execution_count": null,
   "id": "92041031",
   "metadata": {},
   "outputs": [],
   "source": []
  },
  {
   "cell_type": "code",
   "execution_count": null,
   "id": "6c98d99d",
   "metadata": {},
   "outputs": [],
   "source": []
  },
  {
   "cell_type": "code",
   "execution_count": null,
   "id": "00089058",
   "metadata": {},
   "outputs": [],
   "source": []
  },
  {
   "cell_type": "code",
   "execution_count": null,
   "id": "06e5d48f",
   "metadata": {},
   "outputs": [],
   "source": []
  },
  {
   "cell_type": "code",
   "execution_count": null,
   "id": "2abe7216",
   "metadata": {},
   "outputs": [],
   "source": []
  },
  {
   "cell_type": "code",
   "execution_count": null,
   "id": "8c213707",
   "metadata": {},
   "outputs": [],
   "source": []
  },
  {
   "cell_type": "code",
   "execution_count": null,
   "id": "deb5be19",
   "metadata": {},
   "outputs": [],
   "source": []
  },
  {
   "cell_type": "code",
   "execution_count": null,
   "id": "ad1608aa",
   "metadata": {},
   "outputs": [],
   "source": []
  },
  {
   "cell_type": "code",
   "execution_count": null,
   "id": "5c510b63",
   "metadata": {},
   "outputs": [],
   "source": []
  },
  {
   "cell_type": "code",
   "execution_count": null,
   "id": "cf4e4055",
   "metadata": {},
   "outputs": [],
   "source": []
  },
  {
   "cell_type": "code",
   "execution_count": null,
   "id": "f9907ebd",
   "metadata": {},
   "outputs": [],
   "source": []
  },
  {
   "cell_type": "code",
   "execution_count": null,
   "id": "99de54f1",
   "metadata": {},
   "outputs": [],
   "source": []
  },
  {
   "cell_type": "code",
   "execution_count": null,
   "id": "0cf90da3",
   "metadata": {},
   "outputs": [],
   "source": []
  },
  {
   "cell_type": "code",
   "execution_count": null,
   "id": "94f81e0d",
   "metadata": {},
   "outputs": [],
   "source": []
  },
  {
   "cell_type": "code",
   "execution_count": null,
   "id": "72affc54",
   "metadata": {},
   "outputs": [],
   "source": []
  },
  {
   "cell_type": "code",
   "execution_count": null,
   "id": "e25c129a",
   "metadata": {},
   "outputs": [],
   "source": []
  },
  {
   "cell_type": "code",
   "execution_count": null,
   "id": "7eda1cc4",
   "metadata": {},
   "outputs": [],
   "source": []
  },
  {
   "cell_type": "code",
   "execution_count": null,
   "id": "aef248e0",
   "metadata": {},
   "outputs": [],
   "source": []
  },
  {
   "cell_type": "code",
   "execution_count": null,
   "id": "0f51307f",
   "metadata": {},
   "outputs": [],
   "source": []
  },
  {
   "cell_type": "code",
   "execution_count": null,
   "id": "ce2e79fc",
   "metadata": {},
   "outputs": [],
   "source": []
  },
  {
   "cell_type": "code",
   "execution_count": null,
   "id": "3b71289b",
   "metadata": {},
   "outputs": [],
   "source": []
  }
 ],
 "metadata": {
  "kernelspec": {
   "display_name": "Python 3 (ipykernel)",
   "language": "python",
   "name": "python3"
  },
  "language_info": {
   "codemirror_mode": {
    "name": "ipython",
    "version": 3
   },
   "file_extension": ".py",
   "mimetype": "text/x-python",
   "name": "python",
   "nbconvert_exporter": "python",
   "pygments_lexer": "ipython3",
   "version": "3.9.13"
  }
 },
 "nbformat": 4,
 "nbformat_minor": 5
}
